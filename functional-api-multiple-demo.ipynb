{
  "cells": [
    {
      "cell_type": "code",
      "execution_count": null,
      "id": "203deee0",
      "metadata": {
        "id": "203deee0"
      },
      "outputs": [],
      "source": [
        "#Demo for functional-api-multiple\n"
      ]
    },
    {
      "cell_type": "code",
      "execution_count": null,
      "id": "9473714f",
      "metadata": {
        "id": "9473714f"
      },
      "outputs": [],
      "source": [
        "print(\"Code\")"
      ]
    },
    {
      "cell_type": "code",
      "execution_count": null,
      "id": "63268287",
      "metadata": {
        "id": "63268287"
      },
      "outputs": [],
      "source": []
    }
  ],
  "metadata": {
    "kernelspec": {
      "display_name": "Python 3 (ipykernel)",
      "language": "python",
      "name": "python3"
    },
    "language_info": {
      "codemirror_mode": {
        "name": "ipython",
        "version": 3
      },
      "file_extension": ".py",
      "mimetype": "text/x-python",
      "name": "python",
      "nbconvert_exporter": "python",
      "pygments_lexer": "ipython3",
      "version": "3.9.16"
    },
    "colab": {
      "provenance": []
    }
  },
  "nbformat": 4,
  "nbformat_minor": 5
}